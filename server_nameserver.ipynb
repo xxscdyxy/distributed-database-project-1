{
 "cells": [
  {
   "cell_type": "code",
   "execution_count": 84,
   "id": "0b5653d7",
   "metadata": {},
   "outputs": [
    {
     "name": "stdout",
     "output_type": "stream",
     "text": [
      "48176\n",
      "Connected by ('192.168.50.66', 48176)\n",
      "receieved hahaha from client: b'D'\n",
      "receieved hahaha from client: b'e'\n",
      "receieved hahaha from client: b'v'\n"
     ]
    },
    {
     "ename": "BrokenPipeError",
     "evalue": "[Errno 32] Broken pipe",
     "output_type": "error",
     "traceback": [
      "\u001b[0;31m---------------------------------------------------------------------------\u001b[0m",
      "\u001b[0;31mBrokenPipeError\u001b[0m                           Traceback (most recent call last)",
      "\u001b[0;32m/var/tmp/pbs.324163.bright03/ipykernel_2168242/657859596.py\u001b[0m in \u001b[0;36m<module>\u001b[0;34m\u001b[0m\n\u001b[1;32m     17\u001b[0m             \u001b[0;32mif\u001b[0m \u001b[0;32mnot\u001b[0m \u001b[0mdata\u001b[0m\u001b[0;34m:\u001b[0m\u001b[0;34m\u001b[0m\u001b[0;34m\u001b[0m\u001b[0m\n\u001b[1;32m     18\u001b[0m                 \u001b[0;32mbreak\u001b[0m\u001b[0;34m\u001b[0m\u001b[0;34m\u001b[0m\u001b[0m\n\u001b[0;32m---> 19\u001b[0;31m             \u001b[0mconn\u001b[0m\u001b[0;34m.\u001b[0m\u001b[0msendall\u001b[0m\u001b[0;34m(\u001b[0m\u001b[0mdata\u001b[0m\u001b[0;34m)\u001b[0m\u001b[0;34m\u001b[0m\u001b[0;34m\u001b[0m\u001b[0m\n\u001b[0m",
      "\u001b[0;31mBrokenPipeError\u001b[0m: [Errno 32] Broken pipe"
     ]
    }
   ],
   "source": [
    "###demo###\n",
    "import socket\n",
    "s = socket.socket()\n",
    "HOST = socket.gethostname() \n",
    "PORT = 65432  # Port to listen on (non-privileged ports are > 1023)\n",
    "\n",
    "with socket.socket(socket.AF_INET, socket.SOCK_STREAM) as s:\n",
    "    s.bind((HOST, PORT))\n",
    "    s.listen()\n",
    "    conn, addr = s.accept()\n",
    "    print(addr[1])\n",
    "    with conn:\n",
    "        print(f\"Connected by {addr}\")\n",
    "        while True:\n",
    "            data = conn.recv(1024)\n",
    "            print(f\"receieved hahaha from client: {data}\")\n",
    "            if not data:\n",
    "                break\n",
    "            conn.sendall(data)"
   ]
  },
  {
   "cell_type": "code",
   "execution_count": 22,
   "id": "4f7e82be",
   "metadata": {},
   "outputs": [
    {
     "name": "stdout",
     "output_type": "stream",
     "text": [
      "45746\n",
      "Connected by ('192.168.50.66', 45746)\n",
      "receieved hahaha from client: b'Hello, worldHello, world second'\n",
      "receieved hahaha from client: b''\n"
     ]
    }
   ],
   "source": [
    "###demo###\n",
    "import socket\n",
    "s = socket.socket()\n",
    "HOST = socket.gethostname() \n",
    "PORT = 65432  # Port to listen on (non-privileged ports are > 1023)\n",
    "\n",
    "with socket.socket(socket.AF_INET, socket.SOCK_STREAM) as s:\n",
    "    s.bind((HOST, PORT))\n",
    "    s.listen()\n",
    "    conn, addr = s.accept()\n",
    "    print(addr[1])\n",
    "    with conn:\n",
    "        print(f\"Connected by {addr}\")\n",
    "        while True:\n",
    "            data = conn.recv(1024)\n",
    "            print(f\"receieved hahaha from client: {data}\")\n",
    "            if not data:\n",
    "                break\n",
    "            conn.sendall(str(addr[0]).encode())\n",
    "            conn.sendall(str(addr[1]).encode())"
   ]
  },
  {
   "cell_type": "code",
   "execution_count": null,
   "id": "a1edbd84",
   "metadata": {},
   "outputs": [],
   "source": [
    "###project 1###\n",
    "from tabulate import tabulate\n",
    "import pandas as pd\n",
    "import socket\n",
    "s = socket.socket()\n",
    "host = socket.gethostname() \n",
    "df = pd.DataFrame({'Table Name': [], 'Network Address': [], 'Port Number': []})"
   ]
  },
  {
   "cell_type": "code",
   "execution_count": null,
   "id": "ca8fe651",
   "metadata": {},
   "outputs": [],
   "source": [
    "###get data base includeing the email, ID, phone number, \n",
    "def get_information_from_servers(table_info):\n",
    "    df = table_info\n",
    "    port = 11111\n",
    "    with socket.socket(socket.AF_INET, socket.SOCK_STREAM) as s:\n",
    "        s.connect((host, port))\n",
    "        s.sendall(b\"Hello\")\n",
    "        Table_Name = s.recv(1024)\n",
    "        Network_Address = s.recv(1024)\n",
    "        Port_Number = s.recv(1024)\n",
    "        new_Table_information = {'Table Name': Table_Name.decode(), 'Network Address': Network_Address.decode(), 'Port Number': Port_Number.decode()}\n",
    "        df = df.append(new_Table_information,ignore_index=True)\n",
    "        print(f\"the table name is: {df}\")\n",
    "        df.to_excel(\"table_info.xlsx\", index = False)  "
   ]
  },
  {
   "cell_type": "code",
   "execution_count": 80,
   "id": "36f594e5",
   "metadata": {},
   "outputs": [],
   "source": [
    "def send_IP_to_client(df):\n",
    "    with socket.socket(socket.AF_INET, socket.SOCK_STREAM) as s:\n",
    "        port = 11111\n",
    "        s.bind((host, port))\n",
    "        s.listen()\n",
    "        conn, addr = s.accept()\n",
    "        with conn:\n",
    "            print(f\"Connected by {addr}\")\n",
    "            port = addr[1]\n",
    "            while True:\n",
    "                table_name = conn.recv(1024)\n",
    "                table_name = table_name.decode()\n",
    "                \n",
    "                Network_Address = df.loc[df[\"Table Name\"]==table_name,\"Network Address\"].values.item()\n",
    "                Port_Number = df.loc[df[\"Table Name\"]==table_name,\"Port Number\"].values.item()\n",
    "                print(f\"client request the IP address of: {table_name}\")\n",
    "                if not table_name:\n",
    "                    break\n",
    "                conn.sendall(Network_Address.encode())\n",
    "                conn.sendall(str(Port_Number).encode())\n",
    "                print(f\"the ip address is: {Network_Address}\")\n",
    "                print(f\"the port number is: {Port_Number}\")"
   ]
  },
  {
   "cell_type": "code",
   "execution_count": 64,
   "id": "90824186",
   "metadata": {},
   "outputs": [
    {
     "name": "stdout",
     "output_type": "stream",
     "text": [
      "the table name is:   Table Name Network Address Port Number\n",
      "0         ID   192.168.50.66       58658\n"
     ]
    }
   ],
   "source": [
    "get_information_from_servers(df)\n",
    "df = pd.read_excel(\"table_info.xlsx\")"
   ]
  },
  {
   "cell_type": "code",
   "execution_count": 65,
   "id": "d904f55f",
   "metadata": {},
   "outputs": [
    {
     "name": "stdout",
     "output_type": "stream",
     "text": [
      "the table name is:   Table Name Network Address Port Number\n",
      "0         ID   192.168.50.66       58658\n",
      "1      Email   192.168.50.66       58660\n"
     ]
    }
   ],
   "source": [
    "get_information_from_servers(df)\n",
    "df = pd.read_excel(\"table_info.xlsx\")"
   ]
  },
  {
   "cell_type": "code",
   "execution_count": 67,
   "id": "236b2eb1",
   "metadata": {},
   "outputs": [
    {
     "name": "stdout",
     "output_type": "stream",
     "text": [
      "the table name is:      Table Name Network Address Port Number\n",
      "0            ID   192.168.50.66       58658\n",
      "1         Email   192.168.50.66       58660\n",
      "2  Phone_Number   192.168.50.66       58756\n"
     ]
    }
   ],
   "source": [
    "get_information_from_servers(df)\n",
    "df = pd.read_excel(\"table_info.xlsx\")"
   ]
  },
  {
   "cell_type": "code",
   "execution_count": 81,
   "id": "ab3a9b80",
   "metadata": {},
   "outputs": [
    {
     "name": "stdout",
     "output_type": "stream",
     "text": [
      "Connected by ('192.168.50.66', 58906)\n",
      "client request the IP address of: Email\n",
      "the ip address is: 192.168.50.66\n",
      "the port number is: 58660\n"
     ]
    },
    {
     "ename": "ValueError",
     "evalue": "can only convert an array of size 1 to a Python scalar",
     "output_type": "error",
     "traceback": [
      "\u001b[0;31m---------------------------------------------------------------------------\u001b[0m",
      "\u001b[0;31mValueError\u001b[0m                                Traceback (most recent call last)",
      "\u001b[0;32m/var/tmp/pbs.324163.bright03/ipykernel_2168242/1041515754.py\u001b[0m in \u001b[0;36m<module>\u001b[0;34m\u001b[0m\n\u001b[0;32m----> 1\u001b[0;31m \u001b[0msend_IP_to_client\u001b[0m\u001b[0;34m(\u001b[0m\u001b[0mdf\u001b[0m\u001b[0;34m)\u001b[0m\u001b[0;34m\u001b[0m\u001b[0;34m\u001b[0m\u001b[0m\n\u001b[0m",
      "\u001b[0;32m/var/tmp/pbs.324163.bright03/ipykernel_2168242/3120811937.py\u001b[0m in \u001b[0;36msend_IP_to_client\u001b[0;34m(df)\u001b[0m\n\u001b[1;32m     12\u001b[0m                 \u001b[0mtable_name\u001b[0m \u001b[0;34m=\u001b[0m \u001b[0mtable_name\u001b[0m\u001b[0;34m.\u001b[0m\u001b[0mdecode\u001b[0m\u001b[0;34m(\u001b[0m\u001b[0;34m)\u001b[0m\u001b[0;34m\u001b[0m\u001b[0;34m\u001b[0m\u001b[0m\n\u001b[1;32m     13\u001b[0m \u001b[0;34m\u001b[0m\u001b[0m\n\u001b[0;32m---> 14\u001b[0;31m                 \u001b[0mNetwork_Address\u001b[0m \u001b[0;34m=\u001b[0m \u001b[0mdf\u001b[0m\u001b[0;34m.\u001b[0m\u001b[0mloc\u001b[0m\u001b[0;34m[\u001b[0m\u001b[0mdf\u001b[0m\u001b[0;34m[\u001b[0m\u001b[0;34m\"Table Name\"\u001b[0m\u001b[0;34m]\u001b[0m\u001b[0;34m==\u001b[0m\u001b[0mtable_name\u001b[0m\u001b[0;34m,\u001b[0m\u001b[0;34m\"Network Address\"\u001b[0m\u001b[0;34m]\u001b[0m\u001b[0;34m.\u001b[0m\u001b[0mvalues\u001b[0m\u001b[0;34m.\u001b[0m\u001b[0mitem\u001b[0m\u001b[0;34m(\u001b[0m\u001b[0;34m)\u001b[0m\u001b[0;34m\u001b[0m\u001b[0;34m\u001b[0m\u001b[0m\n\u001b[0m\u001b[1;32m     15\u001b[0m                 \u001b[0mPort_Number\u001b[0m \u001b[0;34m=\u001b[0m \u001b[0mdf\u001b[0m\u001b[0;34m.\u001b[0m\u001b[0mloc\u001b[0m\u001b[0;34m[\u001b[0m\u001b[0mdf\u001b[0m\u001b[0;34m[\u001b[0m\u001b[0;34m\"Table Name\"\u001b[0m\u001b[0;34m]\u001b[0m\u001b[0;34m==\u001b[0m\u001b[0mtable_name\u001b[0m\u001b[0;34m,\u001b[0m\u001b[0;34m\"Port Number\"\u001b[0m\u001b[0;34m]\u001b[0m\u001b[0;34m.\u001b[0m\u001b[0mvalues\u001b[0m\u001b[0;34m.\u001b[0m\u001b[0mitem\u001b[0m\u001b[0;34m(\u001b[0m\u001b[0;34m)\u001b[0m\u001b[0;34m\u001b[0m\u001b[0;34m\u001b[0m\u001b[0m\n\u001b[1;32m     16\u001b[0m                 \u001b[0mprint\u001b[0m\u001b[0;34m(\u001b[0m\u001b[0;34mf\"client request the IP address of: {table_name}\"\u001b[0m\u001b[0;34m)\u001b[0m\u001b[0;34m\u001b[0m\u001b[0;34m\u001b[0m\u001b[0m\n",
      "\u001b[0;31mValueError\u001b[0m: can only convert an array of size 1 to a Python scalar"
     ]
    }
   ],
   "source": [
    "send_IP_to_client(df)"
   ]
  },
  {
   "cell_type": "code",
   "execution_count": 32,
   "id": "9266b1e5",
   "metadata": {
    "scrolled": true
   },
   "outputs": [
    {
     "name": "stdout",
     "output_type": "stream",
     "text": [
      "╒══════════════╤═══════════════════╕\n",
      "│ Table Name   │ Network Address   │\n",
      "╞══════════════╪═══════════════════╡\n",
      "│ Email        │ 192.168.50.11     │\n",
      "├──────────────┼───────────────────┤\n",
      "│ ID           │ 192.168.50.22     │\n",
      "├──────────────┼───────────────────┤\n",
      "│ Phone Number │ 192.168.50.33     │\n",
      "╘══════════════╧═══════════════════╛\n",
      "192.168.50.11\n",
      "192.168.50.11\n"
     ]
    }
   ],
   "source": [
    "df = pd.DataFrame({'Table Name': ['Email', 'ID','Phone Number'], \n",
    "#                  'Network Address': ['192.168.50.66', '192.168.50.66', '192.168.50.66']}, \n",
    "                 'Network Address': ['192.168.50.11', '192.168.50.22', '192.168.50.33']})\n",
    "table_nameserver = tabulate({'Table Name': ['Email', 'ID','Phone Number'], \n",
    "#                  'Network Address': ['192.168.50.66', '192.168.50.66', '192.168.50.66']}, \n",
    "                 'Network Address': ['192.168.50.11', '192.168.50.22', '192.168.50.33']}, \n",
    "                 headers='keys', \n",
    "                 tablefmt='fancy_grid', \n",
    "                 missingval='N/A')\n",
    "print(table_nameserver)\n",
    "print(df[df[\"Table Name\"]==\"Email\"].values[0][1])\n",
    "# print(df.loc[df[\"Table Name\"]==\"Email\"][\"Network Address\"])\n",
    "a = df.loc[df[\"Table Name\"]==\"Email\",\"Network Address\"].values.item()\n",
    "print(a)"
   ]
  },
  {
   "cell_type": "code",
   "execution_count": null,
   "id": "022d49a0",
   "metadata": {},
   "outputs": [],
   "source": []
  },
  {
   "cell_type": "code",
   "execution_count": 3,
   "id": "8dbd1cc2",
   "metadata": {},
   "outputs": [
    {
     "name": "stdout",
     "output_type": "stream",
     "text": [
      "Empty DataFrame\n",
      "Columns: [Table Name, Network Address, Port Number]\n",
      "Index: []\n",
      "  Table Name Network Address  Port Number\n",
      "0       haha   12.123.123.12          2.0\n"
     ]
    }
   ],
   "source": [
    "import pandas as pd\n",
    "df = pd.DataFrame({'Table Name': [], 'Network Address': [], 'Port Number': []})\n",
    "print(df)\n",
    "new_Table_information = {'Table Name': \"haha\", 'Network Address': \"12.123.123.12\", 'Port Number': 2}\n",
    "df = df.append(new_Table_information,ignore_index=True)\n",
    "print(df)\n"
   ]
  },
  {
   "cell_type": "code",
   "execution_count": null,
   "id": "40eada7f",
   "metadata": {},
   "outputs": [],
   "source": []
  }
 ],
 "metadata": {
  "kernelspec": {
   "display_name": "Python 3 (ipykernel)",
   "language": "python",
   "name": "python3"
  },
  "language_info": {
   "codemirror_mode": {
    "name": "ipython",
    "version": 3
   },
   "file_extension": ".py",
   "mimetype": "text/x-python",
   "name": "python",
   "nbconvert_exporter": "python",
   "pygments_lexer": "ipython3",
   "version": "3.9.7"
  }
 },
 "nbformat": 4,
 "nbformat_minor": 5
}

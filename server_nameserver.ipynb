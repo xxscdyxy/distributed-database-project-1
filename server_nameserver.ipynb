{
 "cells": [
  {
   "cell_type": "code",
   "execution_count": 30,
   "id": "0b5653d7",
   "metadata": {},
   "outputs": [
    {
     "name": "stdout",
     "output_type": "stream",
     "text": [
      "54244\n",
      "Connected by ('192.168.50.66', 54244)\n",
      "receieved hahaha from client: b'Hello, world'\n",
      "receieved hahaha from client: b''\n"
     ]
    }
   ],
   "source": [
    "###demo###\n",
    "import socket\n",
    "s = socket.socket()\n",
    "HOST = socket.gethostname() \n",
    "PORT = 65432  # Port to listen on (non-privileged ports are > 1023)\n",
    "\n",
    "with socket.socket(socket.AF_INET, socket.SOCK_STREAM) as s:\n",
    "    s.bind((HOST, PORT))\n",
    "    s.listen()\n",
    "    conn, addr = s.accept()\n",
    "    print(addr[1])\n",
    "    with conn:\n",
    "        print(f\"Connected by {addr}\")\n",
    "        while True:\n",
    "            data = conn.recv(1024)\n",
    "            print(f\"receieved hahaha from client: {data}\")\n",
    "            if not data:\n",
    "                break\n",
    "            conn.sendall(data)"
   ]
  },
  {
   "cell_type": "code",
   "execution_count": null,
   "id": "90824186",
   "metadata": {},
   "outputs": [],
   "source": [
    "###project 1###\n",
    "from tabulate import tabulate\n",
    "import pandas as pd\n",
    "import socket\n",
    "s = socket.socket()\n",
    "host = socket.gethostname() \n",
    "port = 11111\n",
    "###data base includeing the email, ID, phone number, \n",
    "\n",
    "###s=socket.socket(socket.AF_INET,socket.SOCK_STREAM) ###TCP socket\n",
    "###\ts=socket.socket(socket.AF_INET,socket.SOCK_DGRAM) ###UDP socket\n",
    "def send_IP_to_client(table_name_of_database):\n",
    "    port = 11111\n",
    "    with socket.socket(socket.AF_INET, socket.SOCK_STREAM) as s:\n",
    "        s = socket.socket()\n",
    "        host = socket.gethostname() \n",
    "        s.bind((host, port))\n",
    "        s.listen()\n",
    "        conn, addr = s.accept()\n",
    "\n",
    "        with conn:\n",
    "            print(f\"Connected by {addr}\")\n",
    "            PORT = addr[1]\n",
    "            while True:\n",
    "                table_name = conn.recv(1024)\n",
    "                table_name = table_name.decode()\n",
    "                df = pd.DataFrame({'Table Name': ['Email', 'ID','Phone Number'], \n",
    "    #                  'Network Address': ['192.168.50.66', '192.168.50.66', '192.168.50.66']}, \n",
    "                     'Network Address': ['192.168.50.11', '192.168.50.22', '192.168.50.33']})\n",
    "                Network_Address = df.loc[df[\"Table Name\"]==table_name,\"Network Address\"].values.item()\n",
    "                print(f\"client request the IP address of: {table_name}\")\n",
    "                if not table_name:\n",
    "                    break\n",
    "                conn.sendall(Network_Address.encode())\n",
    "                conn.sendall(port.encode())\n",
    "                print(f\"the ip address is: {Network_Address}\")\n",
    "                print(f\"the port number is: {port}\")\n",
    "\n",
    "\n",
    "def get_information_from_servers(table_name_of_servers):\n",
    "    port = 22222\n",
    "    with socket.socket(socket.AF_INET, socket.SOCK_STREAM) as s:\n",
    "        s = socket.socket()\n",
    "        host = socket.gethostname() \n",
    "        s.bind((host, port))\n",
    "        s.listen()\n",
    "        conn, addr = s.accept()\n",
    "\n",
    "        with conn:\n",
    "            print(f\"Connected by {addr}\")\n",
    "            PORT = addr[1]\n",
    "            while True:\n",
    "                table_name = conn.recv(1024)\n",
    "                table_name = table_name.decode()\n",
    "                df = pd.DataFrame({'Table Name': ['Email', 'ID','Phone Number'], \n",
    "    #                  'Network Address': ['192.168.50.66', '192.168.50.66', '192.168.50.66']}, \n",
    "                     'Network Address': ['192.168.50.11', '192.168.50.22', '192.168.50.33']})\n",
    "                Network_Address = df.loc[df[\"Table Name\"]==table_name,\"Network Address\"].values.item()\n",
    "                print(f\"client request the IP address of: {table_name}\")\n",
    "                if not table_name:\n",
    "                    break\n",
    "                conn.sendall(Network_Address.encode())\n",
    "                conn.sendall(port.encode())\n",
    "                print(f\"the ip address is: {Network_Address}\")\n",
    "                print(f\"the port numbrt is: {PORT}\")\n",
    "                #generate a file to save the tbale inforation then input to send function\n",
    "table_name_of_servers = \"Email\"\n",
    "get_information_from_servers(table_name_of_servers)"
   ]
  },
  {
   "cell_type": "code",
   "execution_count": 38,
   "id": "9266b1e5",
   "metadata": {
    "scrolled": true
   },
   "outputs": [
    {
     "name": "stdout",
     "output_type": "stream",
     "text": [
      "╒══════════════╤═══════════════════╕\n",
      "│ Table Name   │ Network Address   │\n",
      "╞══════════════╪═══════════════════╡\n",
      "│ Email        │ 192.168.50.11     │\n",
      "├──────────────┼───────────────────┤\n",
      "│ ID           │ 192.168.50.22     │\n",
      "├──────────────┼───────────────────┤\n",
      "│ Phone Number │ 192.168.50.33     │\n",
      "╘══════════════╧═══════════════════╛\n",
      "192.168.50.11\n",
      "192.168.50.11\n"
     ]
    }
   ],
   "source": [
    "df = pd.DataFrame({'Table Name': ['Email', 'ID','Phone Number'], \n",
    "#                  'Network Address': ['192.168.50.66', '192.168.50.66', '192.168.50.66']}, \n",
    "                 'Network Address': ['192.168.50.11', '192.168.50.22', '192.168.50.33']})\n",
    "table_nameserver = tabulate({'Table Name': ['Email', 'ID','Phone Number'], \n",
    "#                  'Network Address': ['192.168.50.66', '192.168.50.66', '192.168.50.66']}, \n",
    "                 'Network Address': ['192.168.50.11', '192.168.50.22', '192.168.50.33']}, \n",
    "                 headers='keys', \n",
    "                 tablefmt='fancy_grid', \n",
    "                 missingval='N/A')\n",
    "print(table_nameserver)\n",
    "print(df[df[\"Table Name\"]==\"Email\"].values[0][1])\n",
    "# print(df.loc[df[\"Table Name\"]==\"Email\"][\"Network Address\"])\n",
    "a = df.loc[df[\"Table Name\"]==\"Email\",\"Network Address\"].values.item()\n",
    "print(a)"
   ]
  },
  {
   "cell_type": "code",
   "execution_count": null,
   "id": "8dbd1cc2",
   "metadata": {},
   "outputs": [],
   "source": []
  }
 ],
 "metadata": {
  "kernelspec": {
   "display_name": "Python 3 (ipykernel)",
   "language": "python",
   "name": "python3"
  },
  "language_info": {
   "codemirror_mode": {
    "name": "ipython",
    "version": 3
   },
   "file_extension": ".py",
   "mimetype": "text/x-python",
   "name": "python",
   "nbconvert_exporter": "python",
   "pygments_lexer": "ipython3",
   "version": "3.9.7"
  }
 },
 "nbformat": 4,
 "nbformat_minor": 5
}

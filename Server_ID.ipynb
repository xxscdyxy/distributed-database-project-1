{
 "cells": [
  {
   "cell_type": "code",
   "execution_count": 11,
   "id": "0b5653d7",
   "metadata": {},
   "outputs": [
    {
     "name": "stdout",
     "output_type": "stream",
     "text": [
      "Connected by ('192.168.50.66', 47178)\n",
      "receieved data from client: b'Hello, world'\n",
      "receieved data from client: b''\n"
     ]
    }
   ],
   "source": [
    "###demo###\n",
    "import socket\n",
    "s = socket.socket()\n",
    "HOST = socket.gethostname() \n",
    "PORT = 65432  # Port to listen on (non-privileged ports are > 1023)\n",
    "\n",
    "with socket.socket(socket.AF_INET, socket.SOCK_STREAM) as s:\n",
    "    s.bind((HOST, PORT))\n",
    "    s.listen()\n",
    "    conn, addr = s.accept()\n",
    "    with conn:\n",
    "        print(f\"Connected by {addr}\")\n",
    "        while True:\n",
    "            data = conn.recv(1024)\n",
    "            print(f\"receieved data from client: {data}\")\n",
    "            if not data:\n",
    "                break\n",
    "            conn.sendall(data)"
   ]
  },
  {
   "cell_type": "code",
   "execution_count": 8,
   "id": "76802c97",
   "metadata": {},
   "outputs": [
    {
     "name": "stdout",
     "output_type": "stream",
     "text": [
      "Connected by ('192.168.50.66', 58658)\n"
     ]
    }
   ],
   "source": [
    "###project 1###\n",
    "import pandas as pd\n",
    "import socket\n",
    "s = socket.socket()\n",
    "host = socket.gethostname() \n",
    "ID = pd.read_excel(\"Email.xlsx\", header = None, names = [\"name\",\"ID\"])\n",
    "# Phone_Number = pd.read_excel(\"Email.xlsx\", header = None, names = [\"name\",\"Phone_Number\"])\n",
    "\n",
    "def send_to_nameserver():\n",
    "    port = 11111\n",
    "    with socket.socket(socket.AF_INET, socket.SOCK_STREAM) as s:\n",
    "        s.bind((host, port))\n",
    "        s.listen()\n",
    "        conn, addr = s.accept()\n",
    "        with conn:\n",
    "            print(f\"Connected by {addr}\")\n",
    "            while True:\n",
    "                table_info = conn.recv(1024)\n",
    "                Table_Name = \"ID\"\n",
    "                Network_Address = addr[0]\n",
    "                Port_Number = addr[1] \n",
    "                if not table_info:\n",
    "                    break\n",
    "                conn.sendall(Table_Name.encode())\n",
    "                conn.sendall(Network_Address.encode())\n",
    "                conn.sendall(str(Port_Number).encode())\n",
    "send_to_nameserver()"
   ]
  },
  {
   "cell_type": "code",
   "execution_count": 3,
   "id": "8896e90e",
   "metadata": {},
   "outputs": [
    {
     "name": "stdout",
     "output_type": "stream",
     "text": [
      "         name  ID\n",
      "0        liam   1\n",
      "1      olivia   2\n",
      "2        noah   3\n",
      "3        emma   4\n",
      "4      oliver   5\n",
      "5   charlotte   6\n",
      "6      elijah   7\n",
      "7      amerli   8\n",
      "8       james   9\n",
      "9         ave  10\n",
      "10    william  11\n",
      "11     sophia  12\n",
      "12   benjamin  13\n",
      "13   isabella  14\n",
      "14      lucas  15\n",
      "15        mia  16\n",
      "16      henry  17\n",
      "17     evelyn  18\n",
      "18   theodore  19\n",
      "19     harper  20\n"
     ]
    }
   ],
   "source": [
    "import pandas as pd\n",
    "ID = pd.read_excel(\"ID.xlsx\", header = None, names = [\"name\",\"ID\"])\n",
    "print(ID)"
   ]
  },
  {
   "cell_type": "code",
   "execution_count": null,
   "id": "f1353c4f",
   "metadata": {},
   "outputs": [],
   "source": []
  }
 ],
 "metadata": {
  "kernelspec": {
   "display_name": "Python 3 (ipykernel)",
   "language": "python",
   "name": "python3"
  },
  "language_info": {
   "codemirror_mode": {
    "name": "ipython",
    "version": 3
   },
   "file_extension": ".py",
   "mimetype": "text/x-python",
   "name": "python",
   "nbconvert_exporter": "python",
   "pygments_lexer": "ipython3",
   "version": "3.9.7"
  }
 },
 "nbformat": 4,
 "nbformat_minor": 5
}

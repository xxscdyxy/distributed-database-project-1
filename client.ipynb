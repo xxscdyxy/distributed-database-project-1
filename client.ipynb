{
 "cells": [
  {
   "cell_type": "code",
   "execution_count": 31,
   "id": "390117cc",
   "metadata": {},
   "outputs": [
    {
     "name": "stdout",
     "output_type": "stream",
     "text": [
      "receieved data from server: b'D'\n"
     ]
    }
   ],
   "source": [
    "###demo###\n",
    "import socket\n",
    "\n",
    "s = socket.socket()        \n",
    "HOST = socket.gethostname() \n",
    "PORT = 65432  # The port used by the server\n",
    "\n",
    "with socket.socket(socket.AF_INET, socket.SOCK_STREAM) as s:\n",
    "    s.connect((HOST, PORT))\n",
    "    s.sendall(b\"Hello\")\n",
    "    data = s.recv(1024)\n",
    "    print(f\"receieved data from server: {data}\")"
   ]
  },
  {
   "cell_type": "code",
   "execution_count": 20,
   "id": "d400572d",
   "metadata": {},
   "outputs": [
    {
     "name": "stdout",
     "output_type": "stream",
     "text": [
      "receieved data from server: 192.168.50.66\n",
      "receieved data from server: 45746\n",
      "receieved data from server:       Table Name Network Address    Port Number\n",
      "0  192.168.50.66           45746  192.168.50.66\n"
     ]
    }
   ],
   "source": [
    "###demo###\n",
    "import socket\n",
    "import pandas as pd\n",
    "s = socket.socket()        \n",
    "HOST = socket.gethostname() \n",
    "PORT = 65432  # The port used by the server\n",
    "\n",
    "with socket.socket(socket.AF_INET, socket.SOCK_STREAM) as s:\n",
    "    s.connect((HOST, PORT))\n",
    "    s.sendall(b\"Hello, world\")\n",
    "    s.sendall(b\"Hello, world second\")\n",
    "    data_1 = s.recv(1024)\n",
    "    data_2 = s.recv(1024)\n",
    "    df = pd.DataFrame({'Table Name': [], 'Network Address': [], 'Port Number': []})\n",
    "    new_Table_information = {'Table Name': data_1.decode(), 'Network Address': data_2.decode(), 'Port Number': data_1.decode()}\n",
    "    df = df.append(new_Table_information,ignore_index=True)\n",
    "    print(f\"receieved data from server: {data_1.decode()}\")\n",
    "    print(f\"receieved data from server: {data_2.decode()}\")\n",
    "    print(f\"receieved data from server: {df}\")"
   ]
  },
  {
   "cell_type": "code",
   "execution_count": 28,
   "id": "8c8ac9f8",
   "metadata": {},
   "outputs": [
    {
     "name": "stdout",
     "output_type": "stream",
     "text": [
      "the IP address is: 192.168.50.66\n",
      "the Port Number is: 58660\n"
     ]
    }
   ],
   "source": [
    "###project 1###\n",
    "import socket\n",
    "\n",
    "s = socket.socket()        \n",
    "HOST = socket.gethostname() \n",
    "\n",
    "\n",
    "def get_IP_Port(table_name):\n",
    "    PORT = 11111  # The port used by the server\n",
    "    with socket.socket(socket.AF_INET, socket.SOCK_STREAM) as s:\n",
    "        s.connect((HOST, PORT)) \n",
    "        s.sendall(table_name.encode())\n",
    "        Network_Address = s.recv(1024)\n",
    "        Port_Number = s.recv(1024)\n",
    "        print(f\"the IP address is: {Network_Address.decode()}\")\n",
    "        print(f\"the Port Number is: {Port_Number.decode()}\")\n",
    "table_name = \"Email\"\n",
    "get_IP_Port(table_name)"
   ]
  },
  {
   "cell_type": "code",
   "execution_count": null,
   "id": "8ebd1d04",
   "metadata": {},
   "outputs": [],
   "source": []
  }
 ],
 "metadata": {
  "kernelspec": {
   "display_name": "Python 3 (ipykernel)",
   "language": "python",
   "name": "python3"
  },
  "language_info": {
   "codemirror_mode": {
    "name": "ipython",
    "version": 3
   },
   "file_extension": ".py",
   "mimetype": "text/x-python",
   "name": "python",
   "nbconvert_exporter": "python",
   "pygments_lexer": "ipython3",
   "version": "3.9.7"
  }
 },
 "nbformat": 4,
 "nbformat_minor": 5
}

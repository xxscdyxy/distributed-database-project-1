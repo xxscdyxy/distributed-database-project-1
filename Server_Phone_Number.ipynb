{
 "cells": [
  {
   "cell_type": "code",
   "execution_count": 11,
   "id": "0b5653d7",
   "metadata": {},
   "outputs": [
    {
     "name": "stdout",
     "output_type": "stream",
     "text": [
      "Connected by ('192.168.50.66', 47178)\n",
      "receieved data from client: b'Hello, world'\n",
      "receieved data from client: b''\n"
     ]
    }
   ],
   "source": [
    "###demo###\n",
    "import socket\n",
    "s = socket.socket()\n",
    "HOST = socket.gethostname() \n",
    "PORT = 65432  # Port to listen on (non-privileged ports are > 1023)\n",
    "\n",
    "with socket.socket(socket.AF_INET, socket.SOCK_STREAM) as s:\n",
    "    s.bind((HOST, PORT))\n",
    "    s.listen()\n",
    "    conn, addr = s.accept()\n",
    "    with conn:\n",
    "        print(f\"Connected by {addr}\")\n",
    "        while True:\n",
    "            data = conn.recv(1024)\n",
    "            print(f\"receieved data from client: {data}\")\n",
    "            if not data:\n",
    "                break\n",
    "            conn.sendall(data)"
   ]
  },
  {
   "cell_type": "code",
   "execution_count": 1,
   "id": "76802c97",
   "metadata": {},
   "outputs": [
    {
     "name": "stdout",
     "output_type": "stream",
     "text": [
      "Connected by ('192.168.50.66', 58756)\n"
     ]
    }
   ],
   "source": [
    "###project 1###\n",
    "import pandas as pd\n",
    "import socket\n",
    "s = socket.socket()\n",
    "host = socket.gethostname() \n",
    "Phone_Number = pd.read_excel(\"Email.xlsx\", header = None, names = [\"name\",\"Phone_Number\"])\n",
    "\n",
    "def send_to_nameserver():\n",
    "    port = 11111\n",
    "    with socket.socket(socket.AF_INET, socket.SOCK_STREAM) as s:\n",
    "        s.bind((host, port))\n",
    "        s.listen()\n",
    "        conn, addr = s.accept()\n",
    "        with conn:\n",
    "            print(f\"Connected by {addr}\")\n",
    "            while True:\n",
    "                table_info = conn.recv(1024)\n",
    "                Table_Name = \"Phone_Number\"\n",
    "                Network_Address = addr[0]\n",
    "                Port_Number = addr[1] \n",
    "                if not table_info:\n",
    "                    break\n",
    "                conn.sendall(Table_Name.encode())\n",
    "                conn.sendall(Network_Address.encode())\n",
    "                conn.sendall(str(Port_Number).encode())\n",
    "send_to_nameserver()"
   ]
  },
  {
   "cell_type": "code",
   "execution_count": 3,
   "id": "2c07893b",
   "metadata": {},
   "outputs": [
    {
     "name": "stdout",
     "output_type": "stream",
     "text": [
      "         Name  Phone_Number\n",
      "0        liam    7012310001\n",
      "1      olivia    7012310002\n",
      "2        noah    7012310003\n",
      "3        emma    7012310004\n",
      "4      oliver    7012310005\n",
      "5   charlotte    7012310006\n",
      "6      elijah    7012310007\n",
      "7      amerli    7012310008\n",
      "8       james    7012310009\n",
      "9         ave    7012310010\n",
      "10    william    7012310011\n",
      "11     sophia    7012310012\n",
      "12   benjamin    7012310013\n",
      "13   isabella    7012310014\n",
      "14      lucas    7012310015\n",
      "15        mia    7012310016\n",
      "16      henry    7012310017\n",
      "17     evelyn    7012310018\n",
      "18   theodore    7012310019\n",
      "19     harper    7012310020\n"
     ]
    }
   ],
   "source": [
    "import pandas as pd\n",
    "Phone_Number = pd.read_excel(\"Phone Number.xlsx\", header = None, names = [\"Name\",\"Phone_Number\"])\n",
    "print(Phone_Number)"
   ]
  },
  {
   "cell_type": "code",
   "execution_count": null,
   "id": "801eb0e6",
   "metadata": {},
   "outputs": [],
   "source": []
  }
 ],
 "metadata": {
  "kernelspec": {
   "display_name": "Python 3 (ipykernel)",
   "language": "python",
   "name": "python3"
  },
  "language_info": {
   "codemirror_mode": {
    "name": "ipython",
    "version": 3
   },
   "file_extension": ".py",
   "mimetype": "text/x-python",
   "name": "python",
   "nbconvert_exporter": "python",
   "pygments_lexer": "ipython3",
   "version": "3.9.7"
  }
 },
 "nbformat": 4,
 "nbformat_minor": 5
}

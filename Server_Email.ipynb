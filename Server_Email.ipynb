{
 "cells": [
  {
   "cell_type": "code",
   "execution_count": 11,
   "id": "0b5653d7",
   "metadata": {},
   "outputs": [
    {
     "name": "stdout",
     "output_type": "stream",
     "text": [
      "Connected by ('192.168.50.66', 47178)\n",
      "receieved data from client: b'Hello, world'\n",
      "receieved data from client: b''\n"
     ]
    }
   ],
   "source": [
    "###demo###\n",
    "import socket\n",
    "s = socket.socket()\n",
    "HOST = socket.gethostname() \n",
    "PORT = 65432  # Port to listen on (non-privileged ports are > 1023)\n",
    "\n",
    "with socket.socket(socket.AF_INET, socket.SOCK_STREAM) as s:\n",
    "    s.bind((HOST, PORT))\n",
    "    s.listen()\n",
    "    conn, addr = s.accept()\n",
    "    with conn:\n",
    "        print(f\"Connected by {addr}\")\n",
    "        while True:\n",
    "            data = conn.recv(1024)\n",
    "            print(f\"receieved data from client: {data}\")\n",
    "            if not data:\n",
    "                break\n",
    "            conn.sendall(data)"
   ]
  },
  {
   "cell_type": "code",
   "execution_count": null,
   "id": "76802c97",
   "metadata": {},
   "outputs": [],
   "source": [
    "###project 1###\n",
    "import pandas as pd\n",
    "import socket\n",
    "s = socket.socket()\n",
    "host = socket.gethostname() \n",
    "email = pd.read_excel(\"Email.xlsx\",sep = \",\", header = None, names = [\"name\",\"email\"])\n",
    "port = 22222\n",
    "\n",
    "def send_to_nameserver():\n",
    "    with socket.socket(socket.AF_INET, socket.SOCK_STREAM) as s:\n",
    "        s.bind((host, port))\n",
    "        s.listen()\n",
    "        conn, addr = s.accept()\n",
    "        with conn:\n",
    "            print(f\"Connected by {addr}\")\n",
    "            ip = addr[0]\n",
    "            port = addr[1]\n",
    "            table_name = \"Email\"\n",
    "            while True:\n",
    "                table_name = conn.recv(1024)\n",
    "                if not table_name:\n",
    "                    break\n",
    "                conn.sendall(table_name.encode())\n",
    "                conn.sendall(ip.encode())\n",
    "                conn.sendall(port.encode())\n",
    "                print(f\"the table name is: {table_name}\")\n",
    "                print(f\"the ip address is: {ip}\")\n",
    "                print(f\"the ip address is: {port}\")"
   ]
  },
  {
   "cell_type": "code",
   "execution_count": 4,
   "id": "5c1bc71b",
   "metadata": {},
   "outputs": [
    {
     "name": "stdout",
     "output_type": "stream",
     "text": [
      "         name                  email\n",
      "0        liam       liam.1@gmail.com\n",
      "1      olivia     olivia.2@gmail.com\n",
      "2        noah       noah.3@gmail.com\n",
      "3        emma       emma.4@gmail.com\n",
      "4      oliver     oliver.5@gmail.com\n",
      "5   charlotte  charlotte.6@gmail.com\n",
      "6      elijah     elijah.7@gmail.com\n",
      "7      amerli     amerli.8@gmail.com\n",
      "8       james      james.9@gmail.com\n",
      "9         ave       ave.10@gmail.com\n",
      "10    william   william.11@gmail.com\n",
      "11     sophia    sophia.12@gmail.com\n",
      "12   benjamin  benjamin.13@gmail.com\n",
      "13   isabella  isabella.14@gmail.com\n",
      "14      lucas     lucas.15@gmail.com\n",
      "15        mia       mia.16@gmail.com\n",
      "16      henry     henry.17@gmail.com\n",
      "17     evelyn    evelyn.18@gmail.com\n",
      "18   theodore  theodore.19@gmail.com\n",
      "19     harper    harper.20@gmail.com\n"
     ]
    }
   ],
   "source": [
    "import pandas as pd\n",
    "Email = pd.read_excel(\"Email.xlsx\", header = None, names = [\"name\",\"email\"])\n",
    "print(Email)"
   ]
  },
  {
   "cell_type": "code",
   "execution_count": null,
   "id": "4f94e4c4",
   "metadata": {},
   "outputs": [],
   "source": []
  }
 ],
 "metadata": {
  "kernelspec": {
   "display_name": "Python 3 (ipykernel)",
   "language": "python",
   "name": "python3"
  },
  "language_info": {
   "codemirror_mode": {
    "name": "ipython",
    "version": 3
   },
   "file_extension": ".py",
   "mimetype": "text/x-python",
   "name": "python",
   "nbconvert_exporter": "python",
   "pygments_lexer": "ipython3",
   "version": "3.9.7"
  }
 },
 "nbformat": 4,
 "nbformat_minor": 5
}

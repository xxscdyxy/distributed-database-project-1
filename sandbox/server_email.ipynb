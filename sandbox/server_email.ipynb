{
 "cells": [
  {
   "cell_type": "code",
   "execution_count": 1,
   "id": "c53f1726",
   "metadata": {},
   "outputs": [
    {
     "name": "stdout",
     "output_type": "stream",
     "text": [
      "connect server successfully!\n",
      "send: {\"Name\": \"Email\", \"COMMAND\": \"SEND_DATA\", \"client_type\": \"Email\"}\n",
      "here\n"
     ]
    }
   ],
   "source": [
    "########################here  1\n",
    "\n",
    "import socket  \n",
    "import json\n",
    "import pandas as pd\n",
    "ADDRESS = ('127.0.0.1', 8711)\n",
    "# 如果开多个客户端，这个client_type设置不同的值，比如客户端1为linxinfa，客户端2为linxinfa2\n",
    "client_type ='linxinfa'\n",
    "# g_socket_server = None  # 负责监听的socket\n",
    "g_socket_server = socket.socket(socket.AF_INET, socket.SOCK_STREAM) \n",
    "df = pd.read_excel(\"Email.xlsx\", header = None, names = [\"name\",\"info\"])\n",
    "df_1 = pd.DataFrame({'Dynamic Port': [],\"IP\":[]})\n",
    "df_1.to_excel(\"Dynamic Port.xlsx\", index = False)\n",
    "\n",
    "\n",
    "def send_data_nameserver(client):\n",
    "    global client_type\n",
    "    df_1 = pd.read_excel(\"Dynamic Port.xlsx\") \n",
    "    jd = {}\n",
    "    jd['Name'] = 'Email'\n",
    "    jd['COMMAND'] = 'SEND_DATA'\n",
    "    jd['client_type'] = client_type\n",
    "    \n",
    "    jsonstr = json.dumps(jd)\n",
    "    print('send: ' + jsonstr)\n",
    "    client.sendall(jsonstr.encode('utf8'))\n",
    "    bytes = client.recv(1024)\n",
    "    \n",
    "    msg = bytes.decode(encoding='utf8')\n",
    "    jdd = json.loads(msg)\n",
    "    print(\"here\")\n",
    "    dynamic_port = jdd['Dynamic_Port']\n",
    "    IP = jdd['IP']\n",
    "    new_Table_information = {'Dynamic Port': dynamic_port,\"IP\":IP}\n",
    "    df_1 = df_1.append(new_Table_information,ignore_index=True)\n",
    "    df_1.to_excel(\"Dynamic Port.xlsx\", index = False)\n",
    "\n",
    "    \n",
    "def input_client_type():\n",
    "    name = \"Email\"\n",
    "    return name\n",
    "    \n",
    "if '__main__' == __name__:\n",
    "    client_type = input_client_type()\n",
    "    client = socket.socket() \n",
    "    client.connect(ADDRESS)\n",
    "    print(client.recv(1024).decode(encoding='utf8'))\n",
    "    send_data_nameserver(client)\n",
    "    client.close()\n"
   ]
  },
  {
   "cell_type": "code",
   "execution_count": 1,
   "id": "df60be0b",
   "metadata": {
    "scrolled": false
   },
   "outputs": [
    {
     "name": "stdout",
     "output_type": "stream",
     "text": [
      "127.0.0.1\n",
      "46080\n",
      "('127.0.0.1', 46080)\n",
      "server start，wait for client connecting...\n",
      "aaa\n",
      "bbb\n",
      "ccc\n",
      "ddd\n"
     ]
    },
    {
     "name": "stderr",
     "output_type": "stream",
     "text": [
      "Exception in thread Thread-9:\n",
      "Traceback (most recent call last):\n",
      "  File \"/mmfs1/apps/pyenvs/anaconda3-2021.11/lib/python3.9/threading.py\", line 973, in _bootstrap_inner\n",
      "    self.run()\n",
      "  File \"/mmfs1/apps/pyenvs/anaconda3-2021.11/lib/python3.9/threading.py\", line 910, in run\n",
      "    self._target(*self._args, **self._kwargs)\n",
      "TypeError: __main__.send_data_infoserver() argument after * must be an iterable, not socket\n"
     ]
    },
    {
     "name": "stdout",
     "output_type": "stream",
     "text": [
      "aa\n",
      "bb\n",
      "cc\n",
      "dd\n"
     ]
    },
    {
     "name": "stderr",
     "output_type": "stream",
     "text": [
      "Exception in thread Thread-10:\n",
      "Traceback (most recent call last):\n",
      "  File \"/mmfs1/apps/pyenvs/anaconda3-2021.11/lib/python3.9/threading.py\", line 973, in _bootstrap_inner\n",
      "    self.run()\n",
      "  File \"/mmfs1/apps/pyenvs/anaconda3-2021.11/lib/python3.9/threading.py\", line 910, in run\n",
      "    self._target(*self._args, **self._kwargs)\n",
      "TypeError: __main__.send_data_infoserver() argument after * must be an iterable, not socket\n"
     ]
    },
    {
     "name": "stdout",
     "output_type": "stream",
     "text": [
      "aa\n",
      "bb\n",
      "cc\n",
      "dd\n"
     ]
    },
    {
     "name": "stderr",
     "output_type": "stream",
     "text": [
      "Exception in thread Thread-11:\n",
      "Traceback (most recent call last):\n",
      "  File \"/mmfs1/apps/pyenvs/anaconda3-2021.11/lib/python3.9/threading.py\", line 973, in _bootstrap_inner\n",
      "    self.run()\n",
      "  File \"/mmfs1/apps/pyenvs/anaconda3-2021.11/lib/python3.9/threading.py\", line 910, in run\n",
      "    self._target(*self._args, **self._kwargs)\n",
      "TypeError: __main__.send_data_infoserver() argument after * must be an iterable, not socket\n"
     ]
    },
    {
     "name": "stdout",
     "output_type": "stream",
     "text": [
      "aa\n",
      "bb\n",
      "cc\n",
      "dd\n"
     ]
    }
   ],
   "source": [
    "########################here 2\n",
    "\n",
    "import socket  \n",
    "import json\n",
    "import pandas as pd\n",
    "from threading import Thread\n",
    "import time\n",
    "# 如果开多个客户端，这个client_type设置不同的值，比如客户端1为linxinfa，客户端2为linxinfa2\n",
    "client_type ='linxinfa'\n",
    "df = pd.read_excel(\"Email.xlsx\", header = None, names = [\"name\",\"info\"])\n",
    "df_1 = pd.read_excel(\"Dynamic Port.xlsx\") \n",
    "dynamic_port = df_1[\"Dynamic Port\"].values.item()\n",
    "IP = df_1[\"IP\"].values.item()\n",
    "print(IP)\n",
    "print(dynamic_port)\n",
    "ADDRESS = (IP, dynamic_port)\n",
    "\n",
    "\n",
    "g_socket_server = None  # 负责监听的socket\n",
    " \n",
    "g_conn_pool = {}  # 连接池\n",
    "\n",
    "def init():\n",
    "    \"\"\"\n",
    "    初始化服务端\n",
    "    \"\"\"\n",
    "    global g_socket_server\n",
    "    g_socket_server = socket.socket(socket.AF_INET, socket.SOCK_STREAM)  \n",
    "    g_socket_server.bind(ADDRESS)\n",
    "    print(ADDRESS)\n",
    "    g_socket_server.listen(5)  # 最大等待数（有很多人理解为最大连接数，其实是错误的）\n",
    "    print(\"server start，wait for client connecting...\")\n",
    "    \n",
    "def accept_client():\n",
    "    \"\"\"\n",
    "    接收新连接\n",
    "    \"\"\"\n",
    "    while True:\n",
    "        client, info = g_socket_server.accept()  # 阻塞，等待客户端连接\n",
    "        print(\"aa\")\n",
    "        # 给每个客户端创建一个独立的线程进行管理\n",
    "        thread = Thread(target=send_data_infoserver, args=(client))\n",
    "        print(\"bb\")\n",
    "        # 设置成守护线程\n",
    "        thread.setDaemon(True)\n",
    "        print(\"cc\")\n",
    "        thread.start()\n",
    "        print(\"dd\")\n",
    "        \n",
    "        \n",
    "def send_data_infoserver(client):\n",
    "    print(\"haha\")\n",
    "    global client_type\n",
    " \n",
    "    bytes = client.recv(1024)\n",
    "    print(\"a\")\n",
    "    msg = bytes.decode(encoding='utf8')\n",
    "    print(\"b\")\n",
    "    jd = json.loads(msg)\n",
    "    print(\"c\")\n",
    "    name = jd['People_Name']\n",
    "    print('receieved request'+'\\n')\n",
    "    jdd = {}\n",
    "    jdd['info'] = df.loc[df[\"name\"]== name,\"info\"].values.item()\n",
    "    jsonstr = json.dumps(jdd)\n",
    "    client.sendall(jsonstr.encode('utf8'))\n",
    "    print('send: ' + jsonstr + \"to the client\"+'\\n'+'\\n')\n",
    "    \n",
    "def input_client_type():\n",
    "    name = \"Email\"\n",
    "    return name\n",
    "    \n",
    "if '__main__' == __name__:\n",
    "    \n",
    "    init()\n",
    "    # 新开一个线程，用于接收新连接\n",
    "    print(\"aaa\")\n",
    "    thread = Thread(target=accept_client)\n",
    "    print(\"bbb\")\n",
    "    thread.setDaemon(True)\n",
    "    print(\"ccc\")\n",
    "    thread.start()\n",
    "    print(\"ddd\")\n",
    "    # 主线程逻辑\n",
    "    while True:\n",
    "        time.sleep(0.01)\n",
    "    "
   ]
  }
 ],
 "metadata": {
  "kernelspec": {
   "display_name": "Python 3 (ipykernel)",
   "language": "python",
   "name": "python3"
  },
  "language_info": {
   "codemirror_mode": {
    "name": "ipython",
    "version": 3
   },
   "file_extension": ".py",
   "mimetype": "text/x-python",
   "name": "python",
   "nbconvert_exporter": "python",
   "pygments_lexer": "ipython3",
   "version": "3.9.7"
  }
 },
 "nbformat": 4,
 "nbformat_minor": 5
}
